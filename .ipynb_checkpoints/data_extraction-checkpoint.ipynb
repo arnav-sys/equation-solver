{
 "cells": [
  {
   "cell_type": "code",
   "execution_count": 1,
   "id": "c71829b1",
   "metadata": {},
   "outputs": [],
   "source": [
    "import os\n",
    "import random\n",
    "import pathlib\n",
    "import shutil\n",
    "import matplotlib.pyplot as plt"
   ]
  },
  {
   "cell_type": "code",
   "execution_count": null,
   "id": "29157136",
   "metadata": {},
   "outputs": [],
   "source": [
    "# Distinct image classes\n",
    "img_classes = ['-', \"!\",\"+\",\"=\",\"9\",\"8\",\"7\",\"6\",\"5\",\"4\",\"3\",\"2\",\"1\",\"0\",\"{\", \"}\", \"[\",  \"]\", \",\",\"alpha\",\"beta\",\"cos\",\"delta\",\"div\",\"e\",\"f\",\"gamma\",\"G\",\"H\",\"i\",\"forward_slash\",\"sigma\",\"sin\",\"sqrt\",\"sum\",\"T\",\"tan\",\"theta\",\"times\"]\n",
    "\n",
    "# Folders for training, testing, and validation subsets\n",
    "dir_data  = pathlib.Path.cwd().joinpath('data')\n",
    "dir_train = dir_data.joinpath('train')\n",
    "dir_valid = dir_data.joinpath('validation')\n",
    "dir_test  = dir_data.joinpath('test')\n",
    "\n",
    "# Train/Test/Validation split config\n",
    "pct_train = 0.8\n",
    "pct_valid = 0.1\n",
    "pct_test = 0.1"
   ]
  }
 ],
 "metadata": {
  "kernelspec": {
   "display_name": "Python 3",
   "language": "python",
   "name": "python3"
  },
  "language_info": {
   "codemirror_mode": {
    "name": "ipython",
    "version": 3
   },
   "file_extension": ".py",
   "mimetype": "text/x-python",
   "name": "python",
   "nbconvert_exporter": "python",
   "pygments_lexer": "ipython3",
   "version": "3.8.8"
  }
 },
 "nbformat": 4,
 "nbformat_minor": 5
}
