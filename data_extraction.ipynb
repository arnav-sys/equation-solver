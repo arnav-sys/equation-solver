{
 "cells": [
  {
   "cell_type": "code",
   "execution_count": 1,
   "id": "c6e92c91",
   "metadata": {},
   "outputs": [],
   "source": [
    "import os\n",
    "import random\n",
    "import pathlib\n",
    "import shutil\n",
    "import numpy as np\n",
    "import pandas as pd\n",
    "from PIL import Image, ImageOps\n",
    "from IPython.display import display\n",
    "from sklearn.utils import shuffle\n",
    "import matplotlib.pyplot as plt\n",
    "from matplotlib import rcParams\n",
    "import warnings\n",
    "import matplotlib.pyplot as plt"
   ]
  },
  {
   "cell_type": "code",
   "execution_count": 2,
   "id": "1a49f6f7",
   "metadata": {},
   "outputs": [],
   "source": [
    "def process_image(img_path: str) -> np.array:\n",
    "    img = Image.open(img_path)\n",
    "    img = ImageOps.grayscale(img)\n",
    "    img = img.resize(size=(96, 96))\n",
    "    img = np.ravel(img) / 255.0\n",
    "    return img"
   ]
  },
  {
   "cell_type": "code",
   "execution_count": 3,
   "id": "20b7db55",
   "metadata": {},
   "outputs": [],
   "source": [
    "def process_folder(folder: pathlib.PosixPath) -> pd.DataFrame:\n",
    "    # We'll store the images here\n",
    "    processed = []\n",
    "    \n",
    "    # For every image in the directory\n",
    "    for img in folder.iterdir():\n",
    "        # Ensure JPG\n",
    "        if img.suffix == '.jpg':\n",
    "            try:\n",
    "                processed.append(process_image(img_path=str(img)))\n",
    "            except Exception as _:\n",
    "                continue\n",
    "           \n",
    "    # Convert to pd.DataFrame\n",
    "    processed = pd.DataFrame(processed)\n",
    "    # Add a class column - dog or a cat\n",
    "    processed['class'] = folder.parts[-1]\n",
    "    \n",
    "    return processed\n"
   ]
  },
  {
   "cell_type": "code",
   "execution_count": 4,
   "id": "1bdcf9b1",
   "metadata": {},
   "outputs": [
    {
     "ename": "MemoryError",
     "evalue": "",
     "output_type": "error",
     "traceback": [
      "\u001b[1;31m---------------------------------------------------------------------------\u001b[0m",
      "\u001b[1;31mMemoryError\u001b[0m                               Traceback (most recent call last)",
      "\u001b[1;32m<ipython-input-4-29b3da8babda>\u001b[0m in \u001b[0;36m<module>\u001b[1;34m\u001b[0m\n\u001b[1;32m----> 1\u001b[1;33m \u001b[0mtrain_minus\u001b[0m \u001b[1;33m=\u001b[0m \u001b[0mprocess_folder\u001b[0m\u001b[1;33m(\u001b[0m\u001b[0mfolder\u001b[0m\u001b[1;33m=\u001b[0m\u001b[0mpathlib\u001b[0m\u001b[1;33m.\u001b[0m\u001b[0mPath\u001b[0m\u001b[1;33m.\u001b[0m\u001b[0mcwd\u001b[0m\u001b[1;33m(\u001b[0m\u001b[1;33m)\u001b[0m\u001b[1;33m.\u001b[0m\u001b[0mjoinpath\u001b[0m\u001b[1;33m(\u001b[0m\u001b[1;34m'data/extracted_images/-'\u001b[0m\u001b[1;33m)\u001b[0m\u001b[1;33m)\u001b[0m\u001b[1;33m\u001b[0m\u001b[1;33m\u001b[0m\u001b[0m\n\u001b[0m\u001b[0;32m      2\u001b[0m \u001b[0mtrain_exclamation\u001b[0m \u001b[1;33m=\u001b[0m \u001b[0mprocess_folder\u001b[0m\u001b[1;33m(\u001b[0m\u001b[0mfolder\u001b[0m\u001b[1;33m=\u001b[0m\u001b[0mpathlib\u001b[0m\u001b[1;33m.\u001b[0m\u001b[0mPath\u001b[0m\u001b[1;33m.\u001b[0m\u001b[0mcwd\u001b[0m\u001b[1;33m(\u001b[0m\u001b[1;33m)\u001b[0m\u001b[1;33m.\u001b[0m\u001b[0mjoinpath\u001b[0m\u001b[1;33m(\u001b[0m\u001b[1;34m'data/extracted_images/!'\u001b[0m\u001b[1;33m)\u001b[0m\u001b[1;33m)\u001b[0m\u001b[1;33m\u001b[0m\u001b[1;33m\u001b[0m\u001b[0m\n\u001b[0;32m      3\u001b[0m \u001b[0mtrain_plus\u001b[0m \u001b[1;33m=\u001b[0m \u001b[0mprocess_folder\u001b[0m\u001b[1;33m(\u001b[0m\u001b[0mfolder\u001b[0m\u001b[1;33m=\u001b[0m\u001b[0mpathlib\u001b[0m\u001b[1;33m.\u001b[0m\u001b[0mPath\u001b[0m\u001b[1;33m.\u001b[0m\u001b[0mcwd\u001b[0m\u001b[1;33m(\u001b[0m\u001b[1;33m)\u001b[0m\u001b[1;33m.\u001b[0m\u001b[0mjoinpath\u001b[0m\u001b[1;33m(\u001b[0m\u001b[1;34m'data/extracted_images/+'\u001b[0m\u001b[1;33m)\u001b[0m\u001b[1;33m)\u001b[0m\u001b[1;33m\u001b[0m\u001b[1;33m\u001b[0m\u001b[0m\n\u001b[0;32m      4\u001b[0m \u001b[0mtrain_equal\u001b[0m \u001b[1;33m=\u001b[0m \u001b[0mprocess_folder\u001b[0m\u001b[1;33m(\u001b[0m\u001b[0mfolder\u001b[0m\u001b[1;33m=\u001b[0m\u001b[0mpathlib\u001b[0m\u001b[1;33m.\u001b[0m\u001b[0mPath\u001b[0m\u001b[1;33m.\u001b[0m\u001b[0mcwd\u001b[0m\u001b[1;33m(\u001b[0m\u001b[1;33m)\u001b[0m\u001b[1;33m.\u001b[0m\u001b[0mjoinpath\u001b[0m\u001b[1;33m(\u001b[0m\u001b[1;34m'data/extracted_images/='\u001b[0m\u001b[1;33m)\u001b[0m\u001b[1;33m)\u001b[0m\u001b[1;33m\u001b[0m\u001b[1;33m\u001b[0m\u001b[0m\n\u001b[0;32m      5\u001b[0m \u001b[0mtrain_9\u001b[0m \u001b[1;33m=\u001b[0m \u001b[0mprocess_folder\u001b[0m\u001b[1;33m(\u001b[0m\u001b[0mfolder\u001b[0m\u001b[1;33m=\u001b[0m\u001b[0mpathlib\u001b[0m\u001b[1;33m.\u001b[0m\u001b[0mPath\u001b[0m\u001b[1;33m.\u001b[0m\u001b[0mcwd\u001b[0m\u001b[1;33m(\u001b[0m\u001b[1;33m)\u001b[0m\u001b[1;33m.\u001b[0m\u001b[0mjoinpath\u001b[0m\u001b[1;33m(\u001b[0m\u001b[1;34m'data/extracted_images/9'\u001b[0m\u001b[1;33m)\u001b[0m\u001b[1;33m)\u001b[0m\u001b[1;33m\u001b[0m\u001b[1;33m\u001b[0m\u001b[0m\n",
      "\u001b[1;32m<ipython-input-3-f452d478dfc6>\u001b[0m in \u001b[0;36mprocess_folder\u001b[1;34m(folder)\u001b[0m\n\u001b[0;32m     13\u001b[0m \u001b[1;33m\u001b[0m\u001b[0m\n\u001b[0;32m     14\u001b[0m     \u001b[1;31m# Convert to pd.DataFrame\u001b[0m\u001b[1;33m\u001b[0m\u001b[1;33m\u001b[0m\u001b[1;33m\u001b[0m\u001b[0m\n\u001b[1;32m---> 15\u001b[1;33m     \u001b[0mprocessed\u001b[0m \u001b[1;33m=\u001b[0m \u001b[0mpd\u001b[0m\u001b[1;33m.\u001b[0m\u001b[0mDataFrame\u001b[0m\u001b[1;33m(\u001b[0m\u001b[0mprocessed\u001b[0m\u001b[1;33m)\u001b[0m\u001b[1;33m\u001b[0m\u001b[1;33m\u001b[0m\u001b[0m\n\u001b[0m\u001b[0;32m     16\u001b[0m     \u001b[1;31m# Add a class column - dog or a cat\u001b[0m\u001b[1;33m\u001b[0m\u001b[1;33m\u001b[0m\u001b[1;33m\u001b[0m\u001b[0m\n\u001b[0;32m     17\u001b[0m     \u001b[0mprocessed\u001b[0m\u001b[1;33m[\u001b[0m\u001b[1;34m'class'\u001b[0m\u001b[1;33m]\u001b[0m \u001b[1;33m=\u001b[0m \u001b[0mfolder\u001b[0m\u001b[1;33m.\u001b[0m\u001b[0mparts\u001b[0m\u001b[1;33m[\u001b[0m\u001b[1;33m-\u001b[0m\u001b[1;36m1\u001b[0m\u001b[1;33m]\u001b[0m\u001b[1;33m\u001b[0m\u001b[1;33m\u001b[0m\u001b[0m\n",
      "\u001b[1;32m~\\anaconda3\\lib\\site-packages\\pandas\\core\\frame.py\u001b[0m in \u001b[0;36m__init__\u001b[1;34m(self, data, index, columns, dtype, copy)\u001b[0m\n\u001b[0;32m    568\u001b[0m                     \u001b[1;32mif\u001b[0m \u001b[0mis_named_tuple\u001b[0m\u001b[1;33m(\u001b[0m\u001b[0mdata\u001b[0m\u001b[1;33m[\u001b[0m\u001b[1;36m0\u001b[0m\u001b[1;33m]\u001b[0m\u001b[1;33m)\u001b[0m \u001b[1;32mand\u001b[0m \u001b[0mcolumns\u001b[0m \u001b[1;32mis\u001b[0m \u001b[1;32mNone\u001b[0m\u001b[1;33m:\u001b[0m\u001b[1;33m\u001b[0m\u001b[1;33m\u001b[0m\u001b[0m\n\u001b[0;32m    569\u001b[0m                         \u001b[0mcolumns\u001b[0m \u001b[1;33m=\u001b[0m \u001b[0mdata\u001b[0m\u001b[1;33m[\u001b[0m\u001b[1;36m0\u001b[0m\u001b[1;33m]\u001b[0m\u001b[1;33m.\u001b[0m\u001b[0m_fields\u001b[0m\u001b[1;33m\u001b[0m\u001b[1;33m\u001b[0m\u001b[0m\n\u001b[1;32m--> 570\u001b[1;33m                     \u001b[0marrays\u001b[0m\u001b[1;33m,\u001b[0m \u001b[0mcolumns\u001b[0m \u001b[1;33m=\u001b[0m \u001b[0mto_arrays\u001b[0m\u001b[1;33m(\u001b[0m\u001b[0mdata\u001b[0m\u001b[1;33m,\u001b[0m \u001b[0mcolumns\u001b[0m\u001b[1;33m,\u001b[0m \u001b[0mdtype\u001b[0m\u001b[1;33m=\u001b[0m\u001b[0mdtype\u001b[0m\u001b[1;33m)\u001b[0m\u001b[1;33m\u001b[0m\u001b[1;33m\u001b[0m\u001b[0m\n\u001b[0m\u001b[0;32m    571\u001b[0m                     \u001b[0mcolumns\u001b[0m \u001b[1;33m=\u001b[0m \u001b[0mensure_index\u001b[0m\u001b[1;33m(\u001b[0m\u001b[0mcolumns\u001b[0m\u001b[1;33m)\u001b[0m\u001b[1;33m\u001b[0m\u001b[1;33m\u001b[0m\u001b[0m\n\u001b[0;32m    572\u001b[0m \u001b[1;33m\u001b[0m\u001b[0m\n",
      "\u001b[1;32m~\\anaconda3\\lib\\site-packages\\pandas\\core\\internals\\construction.py\u001b[0m in \u001b[0;36mto_arrays\u001b[1;34m(data, columns, coerce_float, dtype)\u001b[0m\n\u001b[0;32m    549\u001b[0m     \u001b[1;32melse\u001b[0m\u001b[1;33m:\u001b[0m\u001b[1;33m\u001b[0m\u001b[1;33m\u001b[0m\u001b[0m\n\u001b[0;32m    550\u001b[0m         \u001b[1;31m# last ditch effort\u001b[0m\u001b[1;33m\u001b[0m\u001b[1;33m\u001b[0m\u001b[1;33m\u001b[0m\u001b[0m\n\u001b[1;32m--> 551\u001b[1;33m         \u001b[0mdata\u001b[0m \u001b[1;33m=\u001b[0m \u001b[1;33m[\u001b[0m\u001b[0mtuple\u001b[0m\u001b[1;33m(\u001b[0m\u001b[0mx\u001b[0m\u001b[1;33m)\u001b[0m \u001b[1;32mfor\u001b[0m \u001b[0mx\u001b[0m \u001b[1;32min\u001b[0m \u001b[0mdata\u001b[0m\u001b[1;33m]\u001b[0m\u001b[1;33m\u001b[0m\u001b[1;33m\u001b[0m\u001b[0m\n\u001b[0m\u001b[0;32m    552\u001b[0m         \u001b[1;32mreturn\u001b[0m \u001b[0m_list_to_arrays\u001b[0m\u001b[1;33m(\u001b[0m\u001b[0mdata\u001b[0m\u001b[1;33m,\u001b[0m \u001b[0mcolumns\u001b[0m\u001b[1;33m,\u001b[0m \u001b[0mcoerce_float\u001b[0m\u001b[1;33m=\u001b[0m\u001b[0mcoerce_float\u001b[0m\u001b[1;33m,\u001b[0m \u001b[0mdtype\u001b[0m\u001b[1;33m=\u001b[0m\u001b[0mdtype\u001b[0m\u001b[1;33m)\u001b[0m\u001b[1;33m\u001b[0m\u001b[1;33m\u001b[0m\u001b[0m\n\u001b[0;32m    553\u001b[0m \u001b[1;33m\u001b[0m\u001b[0m\n",
      "\u001b[1;32m~\\anaconda3\\lib\\site-packages\\pandas\\core\\internals\\construction.py\u001b[0m in \u001b[0;36m<listcomp>\u001b[1;34m(.0)\u001b[0m\n\u001b[0;32m    549\u001b[0m     \u001b[1;32melse\u001b[0m\u001b[1;33m:\u001b[0m\u001b[1;33m\u001b[0m\u001b[1;33m\u001b[0m\u001b[0m\n\u001b[0;32m    550\u001b[0m         \u001b[1;31m# last ditch effort\u001b[0m\u001b[1;33m\u001b[0m\u001b[1;33m\u001b[0m\u001b[1;33m\u001b[0m\u001b[0m\n\u001b[1;32m--> 551\u001b[1;33m         \u001b[0mdata\u001b[0m \u001b[1;33m=\u001b[0m \u001b[1;33m[\u001b[0m\u001b[0mtuple\u001b[0m\u001b[1;33m(\u001b[0m\u001b[0mx\u001b[0m\u001b[1;33m)\u001b[0m \u001b[1;32mfor\u001b[0m \u001b[0mx\u001b[0m \u001b[1;32min\u001b[0m \u001b[0mdata\u001b[0m\u001b[1;33m]\u001b[0m\u001b[1;33m\u001b[0m\u001b[1;33m\u001b[0m\u001b[0m\n\u001b[0m\u001b[0;32m    552\u001b[0m         \u001b[1;32mreturn\u001b[0m \u001b[0m_list_to_arrays\u001b[0m\u001b[1;33m(\u001b[0m\u001b[0mdata\u001b[0m\u001b[1;33m,\u001b[0m \u001b[0mcolumns\u001b[0m\u001b[1;33m,\u001b[0m \u001b[0mcoerce_float\u001b[0m\u001b[1;33m=\u001b[0m\u001b[0mcoerce_float\u001b[0m\u001b[1;33m,\u001b[0m \u001b[0mdtype\u001b[0m\u001b[1;33m=\u001b[0m\u001b[0mdtype\u001b[0m\u001b[1;33m)\u001b[0m\u001b[1;33m\u001b[0m\u001b[1;33m\u001b[0m\u001b[0m\n\u001b[0;32m    553\u001b[0m \u001b[1;33m\u001b[0m\u001b[0m\n",
      "\u001b[1;31mMemoryError\u001b[0m: "
     ]
    }
   ],
   "source": [
    "\n",
    "train_minus = process_folder(folder=pathlib.Path.cwd().joinpath('data/extracted_images/-'))\n",
    "train_exclamation = process_folder(folder=pathlib.Path.cwd().joinpath('data/extracted_images/!'))\n",
    "train_plus = process_folder(folder=pathlib.Path.cwd().joinpath('data/extracted_images/+'))\n",
    "train_equal = process_folder(folder=pathlib.Path.cwd().joinpath('data/extracted_images/='))\n",
    "train_9 = process_folder(folder=pathlib.Path.cwd().joinpath('data/extracted_images/9'))\n",
    "train_8 = process_folder(folder=pathlib.Path.cwd().joinpath('data/extracted_images/8'))\n",
    "train_7 = process_folder(folder=pathlib.Path.cwd().joinpath('data/extracted_images/7'))\n",
    "train_6 = process_folder(folder=pathlib.Path.cwd().joinpath('data/extracted_images/6'))\n",
    "train_5 = process_folder(folder=pathlib.Path.cwd().joinpath('data/extracted_images/5'))\n",
    "train_4 = process_folder(folder=pathlib.Path.cwd().joinpath('data/extracted_images/4'))\n",
    "train_3 = process_folder(folder=pathlib.Path.cwd().joinpath('data/extracted_images/3'))\n",
    "train_2 = process_folder(folder=pathlib.Path.cwd().joinpath('data/extracted_images/2'))\n",
    "train_1 = process_folder(folder=pathlib.Path.cwd().joinpath('data/extracted_images/1'))\n",
    "train_0 = process_folder(folder=pathlib.Path.cwd().joinpath('data/extracted_images/0'))\n",
    "train_leftbracket = process_folder(folder=pathlib.Path.cwd().joinpath('data/extracted_images/{'))\n",
    "train_rightbracket = process_folder(folder=pathlib.Path.cwd().joinpath('data/extracted_images/}'))\n",
    "train_leftb = process_folder(folder=pathlib.Path.cwd().joinpath('data/extracted_images/['))\n",
    "train_rightb = process_folder(folder=pathlib.Path.cwd().joinpath('data/extracted_images/]'))\n",
    "train_comma = process_folder(folder=pathlib.Path.cwd().joinpath('data/extracted_images/,'))\n",
    "train_alpha = process_folder(folder=pathlib.Path.cwd().joinpath('data/extracted_images/alpha'))\n",
    "train_beta = process_folder(folder=pathlib.Path.cwd().joinpath('data/extracted_images/beta'))\n",
    "train_cos = process_folder(folder=pathlib.Path.cwd().joinpath('data/extracted_images/cos'))\n",
    "train_delta = process_folder(folder=pathlib.Path.cwd().joinpath('data/extracted_images/delta'))\n",
    "train_div = process_folder(folder=pathlib.Path.cwd().joinpath('data/extracted_images/div'))\n",
    "train_e  =process_folder(folder=pathlib.Path.cwd().joinpath('data/extracted_images/e'))\n",
    "train_f = process_folder(folder=pathlib.Path.cwd().joinpath('data/extracted_images/f'))\n",
    "train_gamma =process_folder(folder=pathlib.Path.cwd().joinpath('data/extracted_images/gamma'))\n",
    "train_G = process_folder(folder=pathlib.Path.cwd().joinpath('data/extracted_images/G'))\n",
    "train_H = process_folder(folder=pathlib.Path.cwd().joinpath('data/extracted_images/H'))\n",
    "train_i = process_folder(folder=pathlib.Path.cwd().joinpath('data/extracted_images/i'))\n",
    "train_forward_slash = process_folder(folder=pathlib.Path.cwd().joinpath('data/extracted_images/forward_slash'))\n",
    "train_sigma =process_folder(folder=pathlib.Path.cwd().joinpath('data/extracted_images/sigma'))\n",
    "train_sin = process_folder(folder=pathlib.Path.cwd().joinpath('data/extracted_images/sin'))\n",
    "train_sqrt = process_folder(folder=pathlib.Path.cwd().joinpath('data/extracted_images/sqrt'))\n",
    "trainsum = process_folder(folder=pathlib.Path.cwd().joinpath('data/extracted_images/sum'))\n",
    "train_T = process_folder(folder=pathlib.Path.cwd().joinpath('data/extracted_images/T'))\n",
    "train_times = process_folder(folder=pathlib.Path.cwd().joinpath('data/extracted_images/times'))\n",
    "train_tan = process_folder(folder=pathlib.Path.cwd().joinpath('data/extracted_images/tan'))\n",
    "train_theta = process_folder(folder=pathlib.Path.cwd().joinpath('data/extracted_images/theta'))"
   ]
  },
  {
   "cell_type": "code",
   "execution_count": null,
   "id": "2dc0f27e",
   "metadata": {},
   "outputs": [],
   "source": [
    "train_set = pd.concat([train_minus, train_exclamation, train_plus, train_equal, train_9, train_8, train_7, train_6, train_5, train_4, train_3, train_2, train_1, train_0, train_leftbracket, train_rightbracket, train_leftb, train_rightb, train_comma, train_alpha, train_beta, train_comma, train_alpha, train_cos, train_delta, train_div, train_e, train_f, train_gamma, train_G, train_H, train_i, train_forward_slash, train_sigma, train_sin, train_sqrt, trainsum, train_T, train_times, train_tan, train_theta], axis=0)\n",
    "with open('train_set.pkl', 'wb') as f:\n",
    "    pickle.dump(train_set, f)"
   ]
  },
  {
   "cell_type": "code",
   "execution_count": null,
   "id": "695df118",
   "metadata": {},
   "outputs": [],
   "source": [
    "train_set.to_csv(\"final_data.csv\")"
   ]
  },
  {
   "cell_type": "code",
   "execution_count": null,
   "id": "d9324913",
   "metadata": {},
   "outputs": [],
   "source": []
  },
  {
   "cell_type": "code",
   "execution_count": null,
   "id": "9d0afb65",
   "metadata": {},
   "outputs": [],
   "source": []
  }
 ],
 "metadata": {
  "kernelspec": {
   "display_name": "Python 3",
   "language": "python",
   "name": "python3"
  },
  "language_info": {
   "codemirror_mode": {
    "name": "ipython",
    "version": 3
   },
   "file_extension": ".py",
   "mimetype": "text/x-python",
   "name": "python",
   "nbconvert_exporter": "python",
   "pygments_lexer": "ipython3",
   "version": "3.8.8"
  }
 },
 "nbformat": 4,
 "nbformat_minor": 5
}
